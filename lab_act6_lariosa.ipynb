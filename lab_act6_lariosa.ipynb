{
  "nbformat": 4,
  "nbformat_minor": 0,
  "metadata": {
    "colab": {
      "provenance": [],
      "authorship_tag": "ABX9TyP278xeLt/n+6yXB3VIuCMG",
      "include_colab_link": true
    },
    "kernelspec": {
      "name": "python3",
      "display_name": "Python 3"
    },
    "language_info": {
      "name": "python"
    }
  },
  "cells": [
    {
      "cell_type": "markdown",
      "metadata": {
        "id": "view-in-github",
        "colab_type": "text"
      },
      "source": [
        "<a href=\"https://colab.research.google.com/github/Darwin575/CSE422_Courseworks/blob/main/lab_act6_lariosa.ipynb\" target=\"_parent\"><img src=\"https://colab.research.google.com/assets/colab-badge.svg\" alt=\"Open In Colab\"/></a>"
      ]
    },
    {
      "cell_type": "markdown",
      "source": [
        "## 1. Initial Setup and Data Loading"
      ],
      "metadata": {
        "id": "Vrb7aBb4YmAY"
      }
    },
    {
      "cell_type": "markdown",
      "source": [
        "### Importing necessary libraries"
      ],
      "metadata": {
        "id": "4l3zN52kY7fp"
      }
    },
    {
      "cell_type": "code",
      "source": [
        "import pandas as pd\n",
        "import numpy as np\n",
        "import matplotlib.pyplot as plt\n",
        "import seaborn as sns\n",
        "\n",
        "from sklearn.model_selection import train_test_split\n",
        "from sklearn.preprocessing import StandardScaler, LabelEncoder\n",
        "from sklearn.impute import KNNImputer\n",
        "from sklearn.metrics import confusion_matrix, classification_report, accuracy_score\n",
        "from sklearn.utils import class_weight\n",
        "from imblearn.combine import SMOTEENN\n",
        "from tensorflow.keras.models import Sequential\n",
        "from tensorflow.keras.layers import Dense, Dropout, LeakyReLU\n",
        "from tensorflow.keras.regularizers import l1\n",
        "from tensorflow.keras.optimizers import Adam"
      ],
      "metadata": {
        "id": "7yR8Csq-y4gF"
      },
      "execution_count": null,
      "outputs": []
    },
    {
      "cell_type": "markdown",
      "source": [
        "### **2. Data Loading and Initial Exploration**"
      ],
      "metadata": {
        "id": "4Wj53MX_ZJgK"
      }
    },
    {
      "cell_type": "code",
      "source": [
        "\n",
        "data = pd.read_csv('/content/sample_data/healthcare_dataset.csv')\n",
        "\n",
        "# Display the first few rows\n",
        "data.head()\n"
      ],
      "metadata": {
        "colab": {
          "base_uri": "https://localhost:8080/",
          "height": 206
        },
        "id": "8hePT6sky-89",
        "outputId": "68ad0c90-35a1-45a6-89e4-0c91ef9c29de"
      },
      "execution_count": null,
      "outputs": [
        {
          "output_type": "execute_result",
          "data": {
            "text/plain": [
              "  patient_id   Age   BMI  BloodPressure Cholesterol  GlucoseLevel  HeartRate  \\\n",
              "0    pid7698  57.0  28.9           91.0        High          80.0       78.0   \n",
              "1    pid8357  47.0  22.2          107.0      Normal          93.0       71.0   \n",
              "2    pid3321  59.0  20.9          113.0      Normal          79.0       82.0   \n",
              "3    pid4018  72.0  25.0          148.0      Normal         100.0       65.0   \n",
              "4    pid8521  46.0  24.1          128.0      Normal          88.0       75.0   \n",
              "\n",
              "  SmokingHistory ExerciseFrequency  HasDisease  \n",
              "0          Never              High         0.0  \n",
              "1          Never               NaN         0.0  \n",
              "2          Never               NaN         0.0  \n",
              "3          Never          Moderate         0.0  \n",
              "4          Never               Low         1.0  "
            ],
            "text/html": [
              "\n",
              "  <div id=\"df-fbca98b0-bfd6-4b24-b9f4-e0f97066319e\" class=\"colab-df-container\">\n",
              "    <div>\n",
              "<style scoped>\n",
              "    .dataframe tbody tr th:only-of-type {\n",
              "        vertical-align: middle;\n",
              "    }\n",
              "\n",
              "    .dataframe tbody tr th {\n",
              "        vertical-align: top;\n",
              "    }\n",
              "\n",
              "    .dataframe thead th {\n",
              "        text-align: right;\n",
              "    }\n",
              "</style>\n",
              "<table border=\"1\" class=\"dataframe\">\n",
              "  <thead>\n",
              "    <tr style=\"text-align: right;\">\n",
              "      <th></th>\n",
              "      <th>patient_id</th>\n",
              "      <th>Age</th>\n",
              "      <th>BMI</th>\n",
              "      <th>BloodPressure</th>\n",
              "      <th>Cholesterol</th>\n",
              "      <th>GlucoseLevel</th>\n",
              "      <th>HeartRate</th>\n",
              "      <th>SmokingHistory</th>\n",
              "      <th>ExerciseFrequency</th>\n",
              "      <th>HasDisease</th>\n",
              "    </tr>\n",
              "  </thead>\n",
              "  <tbody>\n",
              "    <tr>\n",
              "      <th>0</th>\n",
              "      <td>pid7698</td>\n",
              "      <td>57.0</td>\n",
              "      <td>28.9</td>\n",
              "      <td>91.0</td>\n",
              "      <td>High</td>\n",
              "      <td>80.0</td>\n",
              "      <td>78.0</td>\n",
              "      <td>Never</td>\n",
              "      <td>High</td>\n",
              "      <td>0.0</td>\n",
              "    </tr>\n",
              "    <tr>\n",
              "      <th>1</th>\n",
              "      <td>pid8357</td>\n",
              "      <td>47.0</td>\n",
              "      <td>22.2</td>\n",
              "      <td>107.0</td>\n",
              "      <td>Normal</td>\n",
              "      <td>93.0</td>\n",
              "      <td>71.0</td>\n",
              "      <td>Never</td>\n",
              "      <td>NaN</td>\n",
              "      <td>0.0</td>\n",
              "    </tr>\n",
              "    <tr>\n",
              "      <th>2</th>\n",
              "      <td>pid3321</td>\n",
              "      <td>59.0</td>\n",
              "      <td>20.9</td>\n",
              "      <td>113.0</td>\n",
              "      <td>Normal</td>\n",
              "      <td>79.0</td>\n",
              "      <td>82.0</td>\n",
              "      <td>Never</td>\n",
              "      <td>NaN</td>\n",
              "      <td>0.0</td>\n",
              "    </tr>\n",
              "    <tr>\n",
              "      <th>3</th>\n",
              "      <td>pid4018</td>\n",
              "      <td>72.0</td>\n",
              "      <td>25.0</td>\n",
              "      <td>148.0</td>\n",
              "      <td>Normal</td>\n",
              "      <td>100.0</td>\n",
              "      <td>65.0</td>\n",
              "      <td>Never</td>\n",
              "      <td>Moderate</td>\n",
              "      <td>0.0</td>\n",
              "    </tr>\n",
              "    <tr>\n",
              "      <th>4</th>\n",
              "      <td>pid8521</td>\n",
              "      <td>46.0</td>\n",
              "      <td>24.1</td>\n",
              "      <td>128.0</td>\n",
              "      <td>Normal</td>\n",
              "      <td>88.0</td>\n",
              "      <td>75.0</td>\n",
              "      <td>Never</td>\n",
              "      <td>Low</td>\n",
              "      <td>1.0</td>\n",
              "    </tr>\n",
              "  </tbody>\n",
              "</table>\n",
              "</div>\n",
              "    <div class=\"colab-df-buttons\">\n",
              "\n",
              "  <div class=\"colab-df-container\">\n",
              "    <button class=\"colab-df-convert\" onclick=\"convertToInteractive('df-fbca98b0-bfd6-4b24-b9f4-e0f97066319e')\"\n",
              "            title=\"Convert this dataframe to an interactive table.\"\n",
              "            style=\"display:none;\">\n",
              "\n",
              "  <svg xmlns=\"http://www.w3.org/2000/svg\" height=\"24px\" viewBox=\"0 -960 960 960\">\n",
              "    <path d=\"M120-120v-720h720v720H120Zm60-500h600v-160H180v160Zm220 220h160v-160H400v160Zm0 220h160v-160H400v160ZM180-400h160v-160H180v160Zm440 0h160v-160H620v160ZM180-180h160v-160H180v160Zm440 0h160v-160H620v160Z\"/>\n",
              "  </svg>\n",
              "    </button>\n",
              "\n",
              "  <style>\n",
              "    .colab-df-container {\n",
              "      display:flex;\n",
              "      gap: 12px;\n",
              "    }\n",
              "\n",
              "    .colab-df-convert {\n",
              "      background-color: #E8F0FE;\n",
              "      border: none;\n",
              "      border-radius: 50%;\n",
              "      cursor: pointer;\n",
              "      display: none;\n",
              "      fill: #1967D2;\n",
              "      height: 32px;\n",
              "      padding: 0 0 0 0;\n",
              "      width: 32px;\n",
              "    }\n",
              "\n",
              "    .colab-df-convert:hover {\n",
              "      background-color: #E2EBFA;\n",
              "      box-shadow: 0px 1px 2px rgba(60, 64, 67, 0.3), 0px 1px 3px 1px rgba(60, 64, 67, 0.15);\n",
              "      fill: #174EA6;\n",
              "    }\n",
              "\n",
              "    .colab-df-buttons div {\n",
              "      margin-bottom: 4px;\n",
              "    }\n",
              "\n",
              "    [theme=dark] .colab-df-convert {\n",
              "      background-color: #3B4455;\n",
              "      fill: #D2E3FC;\n",
              "    }\n",
              "\n",
              "    [theme=dark] .colab-df-convert:hover {\n",
              "      background-color: #434B5C;\n",
              "      box-shadow: 0px 1px 3px 1px rgba(0, 0, 0, 0.15);\n",
              "      filter: drop-shadow(0px 1px 2px rgba(0, 0, 0, 0.3));\n",
              "      fill: #FFFFFF;\n",
              "    }\n",
              "  </style>\n",
              "\n",
              "    <script>\n",
              "      const buttonEl =\n",
              "        document.querySelector('#df-fbca98b0-bfd6-4b24-b9f4-e0f97066319e button.colab-df-convert');\n",
              "      buttonEl.style.display =\n",
              "        google.colab.kernel.accessAllowed ? 'block' : 'none';\n",
              "\n",
              "      async function convertToInteractive(key) {\n",
              "        const element = document.querySelector('#df-fbca98b0-bfd6-4b24-b9f4-e0f97066319e');\n",
              "        const dataTable =\n",
              "          await google.colab.kernel.invokeFunction('convertToInteractive',\n",
              "                                                    [key], {});\n",
              "        if (!dataTable) return;\n",
              "\n",
              "        const docLinkHtml = 'Like what you see? Visit the ' +\n",
              "          '<a target=\"_blank\" href=https://colab.research.google.com/notebooks/data_table.ipynb>data table notebook</a>'\n",
              "          + ' to learn more about interactive tables.';\n",
              "        element.innerHTML = '';\n",
              "        dataTable['output_type'] = 'display_data';\n",
              "        await google.colab.output.renderOutput(dataTable, element);\n",
              "        const docLink = document.createElement('div');\n",
              "        docLink.innerHTML = docLinkHtml;\n",
              "        element.appendChild(docLink);\n",
              "      }\n",
              "    </script>\n",
              "  </div>\n",
              "\n",
              "\n",
              "<div id=\"df-44916bf0-49e4-4100-a0cd-2830050680ef\">\n",
              "  <button class=\"colab-df-quickchart\" onclick=\"quickchart('df-44916bf0-49e4-4100-a0cd-2830050680ef')\"\n",
              "            title=\"Suggest charts\"\n",
              "            style=\"display:none;\">\n",
              "\n",
              "<svg xmlns=\"http://www.w3.org/2000/svg\" height=\"24px\"viewBox=\"0 0 24 24\"\n",
              "     width=\"24px\">\n",
              "    <g>\n",
              "        <path d=\"M19 3H5c-1.1 0-2 .9-2 2v14c0 1.1.9 2 2 2h14c1.1 0 2-.9 2-2V5c0-1.1-.9-2-2-2zM9 17H7v-7h2v7zm4 0h-2V7h2v10zm4 0h-2v-4h2v4z\"/>\n",
              "    </g>\n",
              "</svg>\n",
              "  </button>\n",
              "\n",
              "<style>\n",
              "  .colab-df-quickchart {\n",
              "      --bg-color: #E8F0FE;\n",
              "      --fill-color: #1967D2;\n",
              "      --hover-bg-color: #E2EBFA;\n",
              "      --hover-fill-color: #174EA6;\n",
              "      --disabled-fill-color: #AAA;\n",
              "      --disabled-bg-color: #DDD;\n",
              "  }\n",
              "\n",
              "  [theme=dark] .colab-df-quickchart {\n",
              "      --bg-color: #3B4455;\n",
              "      --fill-color: #D2E3FC;\n",
              "      --hover-bg-color: #434B5C;\n",
              "      --hover-fill-color: #FFFFFF;\n",
              "      --disabled-bg-color: #3B4455;\n",
              "      --disabled-fill-color: #666;\n",
              "  }\n",
              "\n",
              "  .colab-df-quickchart {\n",
              "    background-color: var(--bg-color);\n",
              "    border: none;\n",
              "    border-radius: 50%;\n",
              "    cursor: pointer;\n",
              "    display: none;\n",
              "    fill: var(--fill-color);\n",
              "    height: 32px;\n",
              "    padding: 0;\n",
              "    width: 32px;\n",
              "  }\n",
              "\n",
              "  .colab-df-quickchart:hover {\n",
              "    background-color: var(--hover-bg-color);\n",
              "    box-shadow: 0 1px 2px rgba(60, 64, 67, 0.3), 0 1px 3px 1px rgba(60, 64, 67, 0.15);\n",
              "    fill: var(--button-hover-fill-color);\n",
              "  }\n",
              "\n",
              "  .colab-df-quickchart-complete:disabled,\n",
              "  .colab-df-quickchart-complete:disabled:hover {\n",
              "    background-color: var(--disabled-bg-color);\n",
              "    fill: var(--disabled-fill-color);\n",
              "    box-shadow: none;\n",
              "  }\n",
              "\n",
              "  .colab-df-spinner {\n",
              "    border: 2px solid var(--fill-color);\n",
              "    border-color: transparent;\n",
              "    border-bottom-color: var(--fill-color);\n",
              "    animation:\n",
              "      spin 1s steps(1) infinite;\n",
              "  }\n",
              "\n",
              "  @keyframes spin {\n",
              "    0% {\n",
              "      border-color: transparent;\n",
              "      border-bottom-color: var(--fill-color);\n",
              "      border-left-color: var(--fill-color);\n",
              "    }\n",
              "    20% {\n",
              "      border-color: transparent;\n",
              "      border-left-color: var(--fill-color);\n",
              "      border-top-color: var(--fill-color);\n",
              "    }\n",
              "    30% {\n",
              "      border-color: transparent;\n",
              "      border-left-color: var(--fill-color);\n",
              "      border-top-color: var(--fill-color);\n",
              "      border-right-color: var(--fill-color);\n",
              "    }\n",
              "    40% {\n",
              "      border-color: transparent;\n",
              "      border-right-color: var(--fill-color);\n",
              "      border-top-color: var(--fill-color);\n",
              "    }\n",
              "    60% {\n",
              "      border-color: transparent;\n",
              "      border-right-color: var(--fill-color);\n",
              "    }\n",
              "    80% {\n",
              "      border-color: transparent;\n",
              "      border-right-color: var(--fill-color);\n",
              "      border-bottom-color: var(--fill-color);\n",
              "    }\n",
              "    90% {\n",
              "      border-color: transparent;\n",
              "      border-bottom-color: var(--fill-color);\n",
              "    }\n",
              "  }\n",
              "</style>\n",
              "\n",
              "  <script>\n",
              "    async function quickchart(key) {\n",
              "      const quickchartButtonEl =\n",
              "        document.querySelector('#' + key + ' button');\n",
              "      quickchartButtonEl.disabled = true;  // To prevent multiple clicks.\n",
              "      quickchartButtonEl.classList.add('colab-df-spinner');\n",
              "      try {\n",
              "        const charts = await google.colab.kernel.invokeFunction(\n",
              "            'suggestCharts', [key], {});\n",
              "      } catch (error) {\n",
              "        console.error('Error during call to suggestCharts:', error);\n",
              "      }\n",
              "      quickchartButtonEl.classList.remove('colab-df-spinner');\n",
              "      quickchartButtonEl.classList.add('colab-df-quickchart-complete');\n",
              "    }\n",
              "    (() => {\n",
              "      let quickchartButtonEl =\n",
              "        document.querySelector('#df-44916bf0-49e4-4100-a0cd-2830050680ef button');\n",
              "      quickchartButtonEl.style.display =\n",
              "        google.colab.kernel.accessAllowed ? 'block' : 'none';\n",
              "    })();\n",
              "  </script>\n",
              "</div>\n",
              "\n",
              "    </div>\n",
              "  </div>\n"
            ],
            "application/vnd.google.colaboratory.intrinsic+json": {
              "type": "dataframe",
              "variable_name": "data",
              "summary": "{\n  \"name\": \"data\",\n  \"rows\": 1500,\n  \"fields\": [\n    {\n      \"column\": \"patient_id\",\n      \"properties\": {\n        \"dtype\": \"string\",\n        \"num_unique_values\": 1376,\n        \"samples\": [\n          \"pid2200\",\n          \"pid488\",\n          \"pid5655\"\n        ],\n        \"semantic_type\": \"\",\n        \"description\": \"\"\n      }\n    },\n    {\n      \"column\": \"Age\",\n      \"properties\": {\n        \"dtype\": \"number\",\n        \"std\": 20.27668124925124,\n        \"min\": 6.0,\n        \"max\": 149.0,\n        \"num_unique_values\": 83,\n        \"samples\": [\n          52.0,\n          57.0,\n          40.0\n        ],\n        \"semantic_type\": \"\",\n        \"description\": \"\"\n      }\n    },\n    {\n      \"column\": \"BMI\",\n      \"properties\": {\n        \"dtype\": \"number\",\n        \"std\": 7.4128363928492975,\n        \"min\": 9.9,\n        \"max\": 63.98729979,\n        \"num_unique_values\": 239,\n        \"samples\": [\n          23.1,\n          28.5,\n          29.9\n        ],\n        \"semantic_type\": \"\",\n        \"description\": \"\"\n      }\n    },\n    {\n      \"column\": \"BloodPressure\",\n      \"properties\": {\n        \"dtype\": \"number\",\n        \"std\": 23.74632186187706,\n        \"min\": 74.0,\n        \"max\": 247.0,\n        \"num_unique_values\": 85,\n        \"samples\": [\n          167.0,\n          91.0,\n          152.0\n        ],\n        \"semantic_type\": \"\",\n        \"description\": \"\"\n      }\n    },\n    {\n      \"column\": \"Cholesterol\",\n      \"properties\": {\n        \"dtype\": \"category\",\n        \"num_unique_values\": 3,\n        \"samples\": [\n          \"High\",\n          \"Normal\",\n          \"Low\"\n        ],\n        \"semantic_type\": \"\",\n        \"description\": \"\"\n      }\n    },\n    {\n      \"column\": \"GlucoseLevel\",\n      \"properties\": {\n        \"dtype\": \"number\",\n        \"std\": 20.63696116616643,\n        \"min\": 35.0,\n        \"max\": 170.0,\n        \"num_unique_values\": 115,\n        \"samples\": [\n          142.0,\n          88.0,\n          104.0\n        ],\n        \"semantic_type\": \"\",\n        \"description\": \"\"\n      }\n    },\n    {\n      \"column\": \"HeartRate\",\n      \"properties\": {\n        \"dtype\": \"number\",\n        \"std\": 10.440438674129531,\n        \"min\": 36.0,\n        \"max\": 108.0,\n        \"num_unique_values\": 66,\n        \"samples\": [\n          95.0,\n          36.0,\n          78.0\n        ],\n        \"semantic_type\": \"\",\n        \"description\": \"\"\n      }\n    },\n    {\n      \"column\": \"SmokingHistory\",\n      \"properties\": {\n        \"dtype\": \"category\",\n        \"num_unique_values\": 3,\n        \"samples\": [\n          \"Never\",\n          \"Current\",\n          \"Former\"\n        ],\n        \"semantic_type\": \"\",\n        \"description\": \"\"\n      }\n    },\n    {\n      \"column\": \"ExerciseFrequency\",\n      \"properties\": {\n        \"dtype\": \"category\",\n        \"num_unique_values\": 3,\n        \"samples\": [\n          \"High\",\n          \"Moderate\",\n          \"Low\"\n        ],\n        \"semantic_type\": \"\",\n        \"description\": \"\"\n      }\n    },\n    {\n      \"column\": \"HasDisease\",\n      \"properties\": {\n        \"dtype\": \"number\",\n        \"std\": 0.4594829497551717,\n        \"min\": 0.0,\n        \"max\": 1.0,\n        \"num_unique_values\": 2,\n        \"samples\": [\n          1.0,\n          0.0\n        ],\n        \"semantic_type\": \"\",\n        \"description\": \"\"\n      }\n    }\n  ]\n}"
            }
          },
          "metadata": {},
          "execution_count": 2
        }
      ]
    },
    {
      "cell_type": "markdown",
      "source": [
        "### **3. Outlier Detection and Handling**\n",
        "#### **Method Used:** Interquartile Range (IQR) Method\n",
        "#### **Visualization:** Boxplots using Matplotlib and Seaborn"
      ],
      "metadata": {
        "id": "5EpslxHGZTyw"
      }
    },
    {
      "cell_type": "code",
      "source": [
        "# Separate numeric and categorical columns\n",
        "numeric_cols = ['Age', 'BMI', 'BloodPressure', 'GlucoseLevel', 'HeartRate']\n",
        "categorical_cols = ['Cholesterol', 'SmokingHistory', 'ExerciseFrequency']\n",
        "\n",
        "# Function to cap outliers using IQR\n",
        "def cap_outliers(df, cols):\n",
        "    for col in cols:\n",
        "        Q1 = df[col].quantile(0.25)\n",
        "        Q3 = df[col].quantile(0.75)\n",
        "        IQR = Q3 - Q1\n",
        "        lower_bound = Q1 - 1.5 * IQR\n",
        "        upper_bound = Q3 + 1.5 * IQR\n",
        "        df[col] = np.clip(df[col], lower_bound, upper_bound)\n",
        "    return df\n",
        "\n",
        "# Apply outlier capping to numeric features\n",
        "data = cap_outliers(data, numeric_cols)\n",
        "\n",
        "# Visualize the effect of outlier treatment\n",
        "plt.figure(figsize=(12, 6))\n",
        "for i, col in enumerate(numeric_cols, 1):\n",
        "    plt.subplot(2, 3, i)\n",
        "    sns.boxplot(data[col])\n",
        "    plt.title(f\"Boxplot of {col}\")\n",
        "plt.tight_layout()\n",
        "plt.show()"
      ],
      "metadata": {
        "colab": {
          "base_uri": "https://localhost:8080/",
          "height": 607
        },
        "id": "uS7ZsNSmqN0v",
        "outputId": "4fa5fc09-c68d-44f8-93c2-8a68c0254770"
      },
      "execution_count": null,
      "outputs": [
        {
          "output_type": "display_data",
          "data": {
            "text/plain": [
              "<Figure size 1200x600 with 5 Axes>"
            ],
            "image/png": "[encoded data removed]"
          },
          "metadata": {}
        }
      ]
    },
    {
      "cell_type": "markdown",
      "source": [
        "### **4. Categorical Data Encoding**\n",
        "#### **Method Used:** Label Encoding"
      ],
      "metadata": {
        "id": "PIheOsXFamMZ"
      }
    },
    {
      "cell_type": "markdown",
      "source": [
        "### **5. Handling Missing Data**\n",
        "#### **Method Used:** K-Nearest Neighbors (KNN) Imputation"
      ],
      "metadata": {
        "id": "ryWVIgRpaxSL"
      }
    },
    {
      "cell_type": "code",
      "source": [
        "# Label encode categorical features\n",
        "label_encoders = {}\n",
        "for col in categorical_cols:\n",
        "    le = LabelEncoder()\n",
        "    data[col] = le.fit_transform(data[col].astype(str))  # Ensure all values are strings\n",
        "    label_encoders[col] = le\n",
        "\n",
        "# Drop rows where HasDisease is missing\n",
        "data = data.dropna(subset=['HasDisease'])\n",
        "\n",
        "# Apply KNN Imputer to all features\n",
        "knn_imputer = KNNImputer(n_neighbors=5)\n",
        "data_imputed = knn_imputer.fit_transform(data.drop(columns=['patient_id', 'HasDisease']))\n",
        "\n",
        "# Round imputed categorical features back to integers\n",
        "data_imputed[:, len(numeric_cols):] = np.round(data_imputed[:, len(numeric_cols):])\n",
        "\n",
        "# Reconstruct the DataFrame\n",
        "data_imputed = pd.DataFrame(data_imputed, columns=numeric_cols + categorical_cols)\n",
        "\n",
        "# Add the target variable back\n",
        "data_imputed['HasDisease'] = data['HasDisease'].values\n",
        "\n",
        "# Verify if there are any remaining missing values\n",
        "print(data_imputed.isnull().sum())"
      ],
      "metadata": {
        "id": "sZHpkYqlzoEl",
        "colab": {
          "base_uri": "https://localhost:8080/"
        },
        "outputId": "c6cbdbfd-b159-480b-a9a7-6c03cb59f325"
      },
      "execution_count": null,
      "outputs": [
        {
          "output_type": "stream",
          "name": "stdout",
          "text": [
            "Age                  0\n",
            "BMI                  0\n",
            "BloodPressure        0\n",
            "GlucoseLevel         0\n",
            "HeartRate            0\n",
            "Cholesterol          0\n",
            "SmokingHistory       0\n",
            "ExerciseFrequency    0\n",
            "HasDisease           0\n",
            "dtype: int64\n"
          ]
        }
      ]
    },
    {
      "cell_type": "markdown",
      "source": [
        "### **6. Feature Selection**"
      ],
      "metadata": {
        "id": "KbyfW2a7bTzW"
      }
    },
    {
      "cell_type": "code",
      "source": [
        "# Drop irrelevant columns (e.g., patient_id) if necessary\n",
        "data_imputed.drop(columns=['patient_id'], inplace=True, errors='ignore')\n",
        "\n",
        "# Select all features except the target variable\n",
        "X = data_imputed.drop(columns=['HasDisease'])\n",
        "y = data_imputed['HasDisease']"
      ],
      "metadata": {
        "id": "Z2nlyDAkGSqp"
      },
      "execution_count": null,
      "outputs": []
    },
    {
      "cell_type": "markdown",
      "source": [
        "### **7. Data Splitting**\n",
        "#### **Method Used:** Train-Test Split (80%-20%)"
      ],
      "metadata": {
        "id": "XmGlCzg0bfty"
      }
    },
    {
      "cell_type": "code",
      "source": [
        "# Split the data into training and testing sets (80% train, 20% test)\n",
        "X_train, X_test, y_train, y_test = train_test_split(\n",
        "    X, y, test_size=0.2, random_state=42, stratify=y\n",
        ")\n",
        "\n",
        "print(f\"Training set size: {X_train.shape}\")\n",
        "print(f\"Testing set size: {X_test.shape}\")"
      ],
      "metadata": {
        "colab": {
          "base_uri": "https://localhost:8080/"
        },
        "id": "uqIKes9aGZ3Z",
        "outputId": "417396b3-1989-4ba3-82f2-8183ff44d3c9"
      },
      "execution_count": null,
      "outputs": [
        {
          "output_type": "stream",
          "name": "stdout",
          "text": [
            "Training set size: (1140, 8)\n",
            "Testing set size: (285, 8)\n"
          ]
        }
      ]
    },
    {
      "cell_type": "markdown",
      "source": [
        "### **8. Feature Scaling**\n",
        "#### **Method Used:** StandardScaler"
      ],
      "metadata": {
        "id": "YWF0tBOubKtm"
      }
    },
    {
      "cell_type": "code",
      "source": [
        "# Scale numeric features using StandardScaler\n",
        "scaler = StandardScaler()\n",
        "\n",
        "# Apply scaling only to numeric columns\n",
        "X_train_scaled = X_train.copy()\n",
        "X_test_scaled = X_test.copy()\n",
        "\n",
        "X_train_scaled[numeric_cols] = scaler.fit_transform(X_train[numeric_cols])\n",
        "X_test_scaled[numeric_cols] = scaler.transform(X_test[numeric_cols])\n",
        "\n",
        "# Verify scaling\n",
        "print(pd.DataFrame(X_train_scaled, columns=X.columns).describe())"
      ],
      "metadata": {
        "colab": {
          "base_uri": "https://localhost:8080/"
        },
        "id": "z8jlKIb_Gj70",
        "outputId": "5bb17bd4-d0ee-419e-8e6b-35d42fd9f8c9"
      },
      "execution_count": null,
      "outputs": [
        {
          "output_type": "stream",
          "name": "stdout",
          "text": [
            "                Age           BMI  BloodPressure  GlucoseLevel     HeartRate  \\\n",
            "count  1.140000e+03  1.140000e+03   1.140000e+03  1.140000e+03  1.140000e+03   \n",
            "mean  -5.609548e-17 -3.552714e-16   1.324477e-16  1.153074e-16  1.246566e-17   \n",
            "std    1.000439e+00  1.000439e+00   1.000439e+00  1.000439e+00  1.000439e+00   \n",
            "min   -2.691155e+00 -2.616605e+00  -2.724954e+00 -1.677228e+00 -2.835183e+00   \n",
            "25%   -7.157706e-01 -6.428150e-01  -6.969945e-01 -5.336634e-01 -6.712239e-01   \n",
            "50%    8.536894e-03 -3.488761e-02   1.118173e-02  6.099010e-01 -2.446771e-02   \n",
            "75%    6.011521e-01  6.204107e-01   5.905986e-01  6.099010e-01  6.903681e-01   \n",
            "max    2.576536e+00  2.594201e+00   2.682937e+00  1.753465e+00  2.805698e+00   \n",
            "\n",
            "       Cholesterol  SmokingHistory  ExerciseFrequency  \n",
            "count   1140.00000     1140.000000        1140.000000  \n",
            "mean      74.70614        1.442982           1.588596  \n",
            "std       10.07542        0.863510           1.070004  \n",
            "min       47.00000        0.000000           0.000000  \n",
            "25%       68.00000        1.000000           1.000000  \n",
            "50%       75.00000        2.000000           2.000000  \n",
            "75%       81.00000        2.000000           3.000000  \n",
            "max      103.00000        3.000000           3.000000  \n"
          ]
        }
      ]
    },
    {
      "cell_type": "markdown",
      "source": [
        "### **9. Handling Class Imbalance**\n",
        "#### **Method Used:** SMOTE-ENN (Synthetic Minority Over-sampling Technique and Edited Nearest Neighbors)"
      ],
      "metadata": {
        "id": "EfXHHiPybqAJ"
      }
    },
    {
      "cell_type": "code",
      "source": [
        "# Apply SMOTE-ENN to balance the training data\n",
        "smote_enn = SMOTEENN(random_state=42, sampling_strategy=0.6)  # Balance classes to equal sizes\n",
        "X_train_resampled, y_train_resampled = smote_enn.fit_resample(X_train_scaled, y_train)\n",
        "\n",
        "# Check the new class distribution\n",
        "print(\"Class Distribution After SMOTE-ENN:\")\n",
        "print(y_train_resampled.value_counts(normalize=True))"
      ],
      "metadata": {
        "colab": {
          "base_uri": "https://localhost:8080/"
        },
        "id": "iWzgE6DURe-i",
        "outputId": "bc1a5d77-de09-4ad6-edbb-ad789e7d8f3c"
      },
      "execution_count": null,
      "outputs": [
        {
          "output_type": "stream",
          "name": "stdout",
          "text": [
            "Class Distribution After SMOTE-ENN:\n",
            "HasDisease\n",
            "0.0    0.680645\n",
            "1.0    0.319355\n",
            "Name: proportion, dtype: float64\n"
          ]
        }
      ]
    },
    {
      "cell_type": "markdown",
      "source": [
        "### **10. Neural Network Model**\n",
        "#### **Architecture:**\n",
        "- **Input Layer:** Accepts scaled numerical and encoded categorical features.\n",
        "- **Hidden Layers:**\n",
        "  - Dense layer with 32 neurons and Leaky ReLU activation.\n",
        "  - Dropout layer (20%) to prevent overfitting.\n",
        "  - Dense layer with 16 neurons and Leaky ReLU activation.\n",
        "- **Output Layer:** Single neuron with sigmoid activation for binary classification."
      ],
      "metadata": {
        "id": "Ttce90YRc0fd"
      }
    },
    {
      "cell_type": "code",
      "source": [
        "# Neural network architecture\n",
        "model = Sequential([\n",
        "    Dense(32, activation='leaky_relu', input_shape=(X_train_resampled.shape[1],)),\n",
        "    Dropout(0.2),\n",
        "    Dense(16, activation='leaky_relu'),\n",
        "    Dense(1, activation='sigmoid')\n",
        "])\n",
        "\n",
        "# Compile the model\n",
        "optimizer = Adam(learning_rate=0.001)\n",
        "model.compile(optimizer=optimizer, loss='binary_crossentropy', metrics=['accuracy'])\n",
        "\n",
        "\n",
        "# Train the model\n",
        "history = model.fit(\n",
        "    X_train_resampled, y_train_resampled,\n",
        "    validation_split=0.2,\n",
        "    epochs=50,\n",
        "    batch_size=32,\n",
        "    verbose=1,\n",
        "\n",
        ")"
      ],
      "metadata": {
        "colab": {
          "base_uri": "https://localhost:8080/"
        },
        "id": "fmz23-QVGntT",
        "outputId": "c39e6274-ced1-4d29-b503-9b2f42a3e09f"
      },
      "execution_count": null,
      "outputs": [
        {
          "output_type": "stream",
          "name": "stderr",
          "text": [
            "/usr/local/lib/python3.11/dist-packages/keras/src/layers/core/dense.py:87: UserWarning: Do not pass an `input_shape`/`input_dim` argument to a layer. When using Sequential models, prefer using an `Input(shape)` object as the first layer in the model instead.\n",
            "  super().__init__(activity_regularizer=activity_regularizer, **kwargs)\n"
          ]
        },
        {
          "output_type": "stream",
          "name": "stdout",
          "text": [
            "Epoch 1/50\n",
            "\u001b[1m8/8\u001b[0m \u001b[32m━━━━━━━━━━━━━━━━━━━━\u001b[0m\u001b[37m\u001b[0m \u001b[1m2s\u001b[0m 45ms/step - accuracy: 0.4483 - loss: 2.5463 - val_accuracy: 0.0000e+00 - val_loss: 2.6717\n",
            "Epoch 2/50\n",
            "\u001b[1m8/8\u001b[0m \u001b[32m━━━━━━━━━━━━━━━━━━━━\u001b[0m\u001b[37m\u001b[0m \u001b[1m0s\u001b[0m 19ms/step - accuracy: 0.6575 - loss: 1.6098 - val_accuracy: 0.0000e+00 - val_loss: 5.7995\n",
            "Epoch 3/50\n",
            "\u001b[1m8/8\u001b[0m \u001b[32m━━━━━━━━━━━━━━━━━━━━\u001b[0m\u001b[37m\u001b[0m \u001b[1m0s\u001b[0m 13ms/step - accuracy: 0.7580 - loss: 1.2546 - val_accuracy: 0.0000e+00 - val_loss: 6.5901\n",
            "Epoch 4/50\n",
            "\u001b[1m8/8\u001b[0m \u001b[32m━━━━━━━━━━━━━━━━━━━━\u001b[0m\u001b[37m\u001b[0m \u001b[1m0s\u001b[0m 13ms/step - accuracy: 0.8190 - loss: 0.9513 - val_accuracy: 0.0000e+00 - val_loss: 6.1328\n",
            "Epoch 5/50\n",
            "\u001b[1m8/8\u001b[0m \u001b[32m━━━━━━━━━━━━━━━━━━━━\u001b[0m\u001b[37m\u001b[0m \u001b[1m0s\u001b[0m 20ms/step - accuracy: 0.7658 - loss: 1.3502 - val_accuracy: 0.0000e+00 - val_loss: 5.5109\n",
            "Epoch 6/50\n",
            "\u001b[1m8/8\u001b[0m \u001b[32m━━━━━━━━━━━━━━━━━━━━\u001b[0m\u001b[37m\u001b[0m \u001b[1m0s\u001b[0m 18ms/step - accuracy: 0.7694 - loss: 1.0929 - val_accuracy: 0.0000e+00 - val_loss: 5.0280\n",
            "Epoch 7/50\n",
            "\u001b[1m8/8\u001b[0m \u001b[32m━━━━━━━━━━━━━━━━━━━━\u001b[0m\u001b[37m\u001b[0m \u001b[1m0s\u001b[0m 13ms/step - accuracy: 0.7611 - loss: 1.3189 - val_accuracy: 0.0000e+00 - val_loss: 4.7096\n",
            "Epoch 8/50\n",
            "\u001b[1m8/8\u001b[0m \u001b[32m━━━━━━━━━━━━━━━━━━━━\u001b[0m\u001b[37m\u001b[0m \u001b[1m0s\u001b[0m 13ms/step - accuracy: 0.7341 - loss: 1.2215 - val_accuracy: 0.0000e+00 - val_loss: 4.4916\n",
            "Epoch 9/50\n",
            "\u001b[1m8/8\u001b[0m \u001b[32m━━━━━━━━━━━━━━━━━━━━\u001b[0m\u001b[37m\u001b[0m \u001b[1m0s\u001b[0m 13ms/step - accuracy: 0.7602 - loss: 1.0105 - val_accuracy: 0.0000e+00 - val_loss: 4.8814\n",
            "Epoch 10/50\n",
            "\u001b[1m8/8\u001b[0m \u001b[32m━━━━━━━━━━━━━━━━━━━━\u001b[0m\u001b[37m\u001b[0m \u001b[1m0s\u001b[0m 13ms/step - accuracy: 0.7807 - loss: 0.9431 - val_accuracy: 0.0000e+00 - val_loss: 4.8517\n",
            "Epoch 11/50\n",
            "\u001b[1m8/8\u001b[0m \u001b[32m━━━━━━━━━━━━━━━━━━━━\u001b[0m\u001b[37m\u001b[0m \u001b[1m0s\u001b[0m 16ms/step - accuracy: 0.7625 - loss: 0.7629 - val_accuracy: 0.0000e+00 - val_loss: 5.0210\n",
            "Epoch 12/50\n",
            "\u001b[1m8/8\u001b[0m \u001b[32m━━━━━━━━━━━━━━━━━━━━\u001b[0m\u001b[37m\u001b[0m \u001b[1m0s\u001b[0m 15ms/step - accuracy: 0.7571 - loss: 0.8973 - val_accuracy: 0.0000e+00 - val_loss: 4.7515\n",
            "Epoch 13/50\n",
            "\u001b[1m8/8\u001b[0m \u001b[32m━━━━━━━━━━━━━━━━━━━━\u001b[0m\u001b[37m\u001b[0m \u001b[1m0s\u001b[0m 13ms/step - accuracy: 0.8173 - loss: 0.7523 - val_accuracy: 0.0000e+00 - val_loss: 4.0781\n",
            "Epoch 14/50\n",
            "\u001b[1m8/8\u001b[0m \u001b[32m━━━━━━━━━━━━━━━━━━━━\u001b[0m\u001b[37m\u001b[0m \u001b[1m0s\u001b[0m 14ms/step - accuracy: 0.7874 - loss: 0.6491 - val_accuracy: 0.0000e+00 - val_loss: 4.0089\n",
            "Epoch 15/50\n",
            "\u001b[1m8/8\u001b[0m \u001b[32m━━━━━━━━━━━━━━━━━━━━\u001b[0m\u001b[37m\u001b[0m \u001b[1m0s\u001b[0m 14ms/step - accuracy: 0.7365 - loss: 0.7361 - val_accuracy: 0.0000e+00 - val_loss: 4.1621\n",
            "Epoch 16/50\n",
            "\u001b[1m8/8\u001b[0m \u001b[32m━━━━━━━━━━━━━━━━━━━━\u001b[0m\u001b[37m\u001b[0m \u001b[1m0s\u001b[0m 14ms/step - accuracy: 0.8135 - loss: 0.6295 - val_accuracy: 0.0000e+00 - val_loss: 3.8616\n",
            "Epoch 17/50\n",
            "\u001b[1m8/8\u001b[0m \u001b[32m━━━━━━━━━━━━━━━━━━━━\u001b[0m\u001b[37m\u001b[0m \u001b[1m0s\u001b[0m 13ms/step - accuracy: 0.7803 - loss: 0.7605 - val_accuracy: 0.0000e+00 - val_loss: 3.6804\n",
            "Epoch 18/50\n",
            "\u001b[1m8/8\u001b[0m \u001b[32m━━━━━━━━━━━━━━━━━━━━\u001b[0m\u001b[37m\u001b[0m \u001b[1m0s\u001b[0m 22ms/step - accuracy: 0.7905 - loss: 0.6322 - val_accuracy: 0.0000e+00 - val_loss: 3.7050\n",
            "Epoch 19/50\n",
            "\u001b[1m8/8\u001b[0m \u001b[32m━━━━━━━━━━━━━━━━━━━━\u001b[0m\u001b[37m\u001b[0m \u001b[1m0s\u001b[0m 13ms/step - accuracy: 0.7825 - loss: 0.6869 - val_accuracy: 0.0000e+00 - val_loss: 3.2056\n",
            "Epoch 20/50\n",
            "\u001b[1m8/8\u001b[0m \u001b[32m━━━━━━━━━━━━━━━━━━━━\u001b[0m\u001b[37m\u001b[0m \u001b[1m0s\u001b[0m 13ms/step - accuracy: 0.7663 - loss: 0.6482 - val_accuracy: 0.0000e+00 - val_loss: 3.2241\n",
            "Epoch 21/50\n",
            "\u001b[1m8/8\u001b[0m \u001b[32m━━━━━━━━━━━━━━━━━━━━\u001b[0m\u001b[37m\u001b[0m \u001b[1m0s\u001b[0m 13ms/step - accuracy: 0.8208 - loss: 0.5181 - val_accuracy: 0.0000e+00 - val_loss: 3.1161\n",
            "Epoch 22/50\n",
            "\u001b[1m8/8\u001b[0m \u001b[32m━━━━━━━━━━━━━━━━━━━━\u001b[0m\u001b[37m\u001b[0m \u001b[1m0s\u001b[0m 13ms/step - accuracy: 0.7561 - loss: 0.6133 - val_accuracy: 0.0000e+00 - val_loss: 2.8668\n",
            "Epoch 23/50\n",
            "\u001b[1m8/8\u001b[0m \u001b[32m━━━━━━━━━━━━━━━━━━━━\u001b[0m\u001b[37m\u001b[0m \u001b[1m0s\u001b[0m 14ms/step - accuracy: 0.7914 - loss: 0.6676 - val_accuracy: 0.0000e+00 - val_loss: 2.7900\n",
            "Epoch 24/50\n",
            "\u001b[1m8/8\u001b[0m \u001b[32m━━━━━━━━━━━━━━━━━━━━\u001b[0m\u001b[37m\u001b[0m \u001b[1m0s\u001b[0m 21ms/step - accuracy: 0.8347 - loss: 0.4978 - val_accuracy: 0.0000e+00 - val_loss: 2.9748\n",
            "Epoch 25/50\n",
            "\u001b[1m8/8\u001b[0m \u001b[32m━━━━━━━━━━━━━━━━━━━━\u001b[0m\u001b[37m\u001b[0m \u001b[1m0s\u001b[0m 13ms/step - accuracy: 0.8031 - loss: 0.5493 - val_accuracy: 0.0000e+00 - val_loss: 2.5192\n",
            "Epoch 26/50\n",
            "\u001b[1m8/8\u001b[0m \u001b[32m━━━━━━━━━━━━━━━━━━━━\u001b[0m\u001b[37m\u001b[0m \u001b[1m0s\u001b[0m 13ms/step - accuracy: 0.8368 - loss: 0.4422 - val_accuracy: 0.0000e+00 - val_loss: 2.6455\n",
            "Epoch 27/50\n",
            "\u001b[1m8/8\u001b[0m \u001b[32m━━━━━━━━━━━━━━━━━━━━\u001b[0m\u001b[37m\u001b[0m \u001b[1m0s\u001b[0m 13ms/step - accuracy: 0.8134 - loss: 0.5229 - val_accuracy: 0.0000e+00 - val_loss: 2.5436\n",
            "Epoch 28/50\n",
            "\u001b[1m8/8\u001b[0m \u001b[32m━━━━━━━━━━━━━━━━━━━━\u001b[0m\u001b[37m\u001b[0m \u001b[1m0s\u001b[0m 14ms/step - accuracy: 0.8244 - loss: 0.4845 - val_accuracy: 0.0000e+00 - val_loss: 2.4697\n",
            "Epoch 29/50\n",
            "\u001b[1m8/8\u001b[0m \u001b[32m━━━━━━━━━━━━━━━━━━━━\u001b[0m\u001b[37m\u001b[0m \u001b[1m0s\u001b[0m 14ms/step - accuracy: 0.8156 - loss: 0.5293 - val_accuracy: 0.0000e+00 - val_loss: 2.6060\n",
            "Epoch 30/50\n",
            "\u001b[1m8/8\u001b[0m \u001b[32m━━━━━━━━━━━━━━━━━━━━\u001b[0m\u001b[37m\u001b[0m \u001b[1m0s\u001b[0m 14ms/step - accuracy: 0.8478 - loss: 0.4936 - val_accuracy: 0.0000e+00 - val_loss: 2.4013\n",
            "Epoch 31/50\n",
            "\u001b[1m8/8\u001b[0m \u001b[32m━━━━━━━━━━━━━━━━━━━━\u001b[0m\u001b[37m\u001b[0m \u001b[1m0s\u001b[0m 15ms/step - accuracy: 0.8522 - loss: 0.4590 - val_accuracy: 0.0000e+00 - val_loss: 2.2172\n",
            "Epoch 32/50\n",
            "\u001b[1m8/8\u001b[0m \u001b[32m━━━━━━━━━━━━━━━━━━━━\u001b[0m\u001b[37m\u001b[0m \u001b[1m0s\u001b[0m 13ms/step - accuracy: 0.8374 - loss: 0.4910 - val_accuracy: 0.0000e+00 - val_loss: 2.0787\n",
            "Epoch 33/50\n",
            "\u001b[1m8/8\u001b[0m \u001b[32m━━━━━━━━━━━━━━━━━━━━\u001b[0m\u001b[37m\u001b[0m \u001b[1m0s\u001b[0m 13ms/step - accuracy: 0.8215 - loss: 0.4751 - val_accuracy: 0.0000e+00 - val_loss: 2.2146\n",
            "Epoch 34/50\n",
            "\u001b[1m8/8\u001b[0m \u001b[32m━━━━━━━━━━━━━━━━━━━━\u001b[0m\u001b[37m\u001b[0m \u001b[1m0s\u001b[0m 13ms/step - accuracy: 0.8615 - loss: 0.4638 - val_accuracy: 0.0000e+00 - val_loss: 2.2843\n",
            "Epoch 35/50\n",
            "\u001b[1m8/8\u001b[0m \u001b[32m━━━━━━━━━━━━━━━━━━━━\u001b[0m\u001b[37m\u001b[0m \u001b[1m0s\u001b[0m 13ms/step - accuracy: 0.8584 - loss: 0.4761 - val_accuracy: 0.0000e+00 - val_loss: 1.9718\n",
            "Epoch 36/50\n",
            "\u001b[1m8/8\u001b[0m \u001b[32m━━━━━━━━━━━━━━━━━━━━\u001b[0m\u001b[37m\u001b[0m \u001b[1m0s\u001b[0m 13ms/step - accuracy: 0.8377 - loss: 0.4854 - val_accuracy: 0.0000e+00 - val_loss: 1.8231\n",
            "Epoch 37/50\n",
            "\u001b[1m8/8\u001b[0m \u001b[32m━━━━━━━━━━━━━━━━━━━━\u001b[0m\u001b[37m\u001b[0m \u001b[1m0s\u001b[0m 13ms/step - accuracy: 0.8243 - loss: 0.5102 - val_accuracy: 0.0000e+00 - val_loss: 2.1003\n",
            "Epoch 38/50\n",
            "\u001b[1m8/8\u001b[0m \u001b[32m━━━━━━━━━━━━━━━━━━━━\u001b[0m\u001b[37m\u001b[0m \u001b[1m0s\u001b[0m 14ms/step - accuracy: 0.8228 - loss: 0.5193 - val_accuracy: 0.0000e+00 - val_loss: 2.3231\n",
            "Epoch 39/50\n",
            "\u001b[1m8/8\u001b[0m \u001b[32m━━━━━━━━━━━━━━━━━━━━\u001b[0m\u001b[37m\u001b[0m \u001b[1m0s\u001b[0m 13ms/step - accuracy: 0.8449 - loss: 0.4850 - val_accuracy: 0.0000e+00 - val_loss: 2.0734\n",
            "Epoch 40/50\n",
            "\u001b[1m8/8\u001b[0m \u001b[32m━━━━━━━━━━━━━━━━━━━━\u001b[0m\u001b[37m\u001b[0m \u001b[1m0s\u001b[0m 18ms/step - accuracy: 0.8494 - loss: 0.4423 - val_accuracy: 0.0000e+00 - val_loss: 2.0339\n",
            "Epoch 41/50\n",
            "\u001b[1m8/8\u001b[0m \u001b[32m━━━━━━━━━━━━━━━━━━━━\u001b[0m\u001b[37m\u001b[0m \u001b[1m0s\u001b[0m 13ms/step - accuracy: 0.8170 - loss: 0.5197 - val_accuracy: 0.0000e+00 - val_loss: 2.1425\n",
            "Epoch 42/50\n",
            "\u001b[1m8/8\u001b[0m \u001b[32m━━━━━━━━━━━━━━━━━━━━\u001b[0m\u001b[37m\u001b[0m \u001b[1m0s\u001b[0m 12ms/step - accuracy: 0.8376 - loss: 0.4464 - val_accuracy: 0.0000e+00 - val_loss: 2.0318\n",
            "Epoch 43/50\n",
            "\u001b[1m8/8\u001b[0m \u001b[32m━━━━━━━━━━━━━━━━━━━━\u001b[0m\u001b[37m\u001b[0m \u001b[1m0s\u001b[0m 13ms/step - accuracy: 0.8174 - loss: 0.4831 - val_accuracy: 0.0000e+00 - val_loss: 2.0225\n",
            "Epoch 44/50\n",
            "\u001b[1m8/8\u001b[0m \u001b[32m━━━━━━━━━━━━━━━━━━━━\u001b[0m\u001b[37m\u001b[0m \u001b[1m0s\u001b[0m 13ms/step - accuracy: 0.8877 - loss: 0.3652 - val_accuracy: 0.0000e+00 - val_loss: 2.0985\n",
            "Epoch 45/50\n",
            "\u001b[1m8/8\u001b[0m \u001b[32m━━━━━━━━━━━━━━━━━━━━\u001b[0m\u001b[37m\u001b[0m \u001b[1m0s\u001b[0m 14ms/step - accuracy: 0.8523 - loss: 0.4193 - val_accuracy: 0.0000e+00 - val_loss: 1.9067\n",
            "Epoch 46/50\n",
            "\u001b[1m8/8\u001b[0m \u001b[32m━━━━━━━━━━━━━━━━━━━━\u001b[0m\u001b[37m\u001b[0m \u001b[1m0s\u001b[0m 18ms/step - accuracy: 0.8407 - loss: 0.4770 - val_accuracy: 0.0000e+00 - val_loss: 2.0449\n",
            "Epoch 47/50\n",
            "\u001b[1m8/8\u001b[0m \u001b[32m━━━━━━━━━━━━━━━━━━━━\u001b[0m\u001b[37m\u001b[0m \u001b[1m0s\u001b[0m 13ms/step - accuracy: 0.8680 - loss: 0.3970 - val_accuracy: 0.0000e+00 - val_loss: 2.0699\n",
            "Epoch 48/50\n",
            "\u001b[1m8/8\u001b[0m \u001b[32m━━━━━━━━━━━━━━━━━━━━\u001b[0m\u001b[37m\u001b[0m \u001b[1m0s\u001b[0m 13ms/step - accuracy: 0.8401 - loss: 0.4809 - val_accuracy: 0.0000e+00 - val_loss: 1.9623\n",
            "Epoch 49/50\n",
            "\u001b[1m8/8\u001b[0m \u001b[32m━━━━━━━━━━━━━━━━━━━━\u001b[0m\u001b[37m\u001b[0m \u001b[1m0s\u001b[0m 22ms/step - accuracy: 0.8639 - loss: 0.4047 - val_accuracy: 0.0000e+00 - val_loss: 1.9876\n",
            "Epoch 50/50\n",
            "\u001b[1m8/8\u001b[0m \u001b[32m━━━━━━━━━━━━━━━━━━━━\u001b[0m\u001b[37m\u001b[0m \u001b[1m0s\u001b[0m 20ms/step - accuracy: 0.8552 - loss: 0.4272 - val_accuracy: 0.0000e+00 - val_loss: 1.9063\n"
          ]
        }
      ]
    },
    {
      "cell_type": "code",
      "source": [
        "# Plot training and validation loss\n",
        "plt.figure(figsize=(10, 6))\n",
        "plt.plot(history.history['loss'], label='Training Loss')\n",
        "plt.plot(history.history['val_loss'], label='Validation Loss')\n",
        "plt.title('Training and Validation Loss Over Epochs')\n",
        "plt.xlabel('Epochs')\n",
        "plt.ylabel('Loss')\n",
        "plt.legend()\n",
        "plt.grid(True)\n",
        "plt.show()"
      ],
      "metadata": {
        "colab": {
          "base_uri": "https://localhost:8080/",
          "height": 564
        },
        "id": "p3phLQpNw0gk",
        "outputId": "14512823-660e-4bf5-cf72-bd844ab45a05"
      },
      "execution_count": null,
      "outputs": [
        {
          "output_type": "display_data",
          "data": {
            "text/plain": [
              "<Figure size 1000x600 with 1 Axes>"
            ],
            "image/png": "[encoded data removed]"
          },
          "metadata": {}
        }
      ]
    },
    {
      "cell_type": "markdown",
      "source": [
        "### **11. Model Evaluation**\n",
        "#### **Method Used:** Confusion Matrix & Classification Report\n",
        "\n",
        "  - **Confusion Matrix:** Provides insight into model predictions (true positives, false positives, etc.).\n",
        "  - **Classification Report:** Displays precision, recall, and F1-score, crucial for evaluating classification performance."
      ],
      "metadata": {
        "id": "Uqn08AZWdrlF"
      }
    },
    {
      "cell_type": "code",
      "source": [
        "# Predictions with adjusted threshold\n",
        "threshold = 0.4\n",
        "y_pred_prob = model.predict(X_test_scaled)\n",
        "y_pred = (y_pred_prob > threshold).astype(int).flatten()\n",
        "\n",
        "# Confusion matrix\n",
        "cm = confusion_matrix(y_test, y_pred)\n",
        "\n",
        "# Plot confusion matrix\n",
        "plt.figure(figsize=(6, 4))\n",
        "sns.heatmap(cm, annot=True, fmt='d', cmap='Blues', xticklabels=['No Disease', 'Disease'], yticklabels=['No Disease', 'Disease'])\n",
        "plt.xlabel('Predicted')\n",
        "plt.ylabel('Actual')\n",
        "plt.title('Confusion Matrix')\n",
        "plt.show()\n",
        "\n",
        "# Classification report\n",
        "print(\"Classification Report:\")\n",
        "print(classification_report(y_test, y_pred))\n"
      ],
      "metadata": {
        "colab": {
          "base_uri": "https://localhost:8080/",
          "height": 725
        },
        "id": "dMcnY-kFGu-9",
        "outputId": "33ccb355-a5f5-4896-c0d0-e79e775c01c0"
      },
      "execution_count": null,
      "outputs": [
        {
          "output_type": "stream",
          "name": "stdout",
          "text": [
            "\u001b[1m9/9\u001b[0m \u001b[32m━━━━━━━━━━━━━━━━━━━━\u001b[0m\u001b[37m\u001b[0m \u001b[1m0s\u001b[0m 8ms/step \n"
          ]
        },
        {
          "output_type": "display_data",
          "data": {
            "text/plain": [
              "<Figure size 600x400 with 2 Axes>"
            ],
            "image/png": "[encoded data removed]"
          },
          "metadata": {}
        },
        {
          "output_type": "stream",
          "name": "stdout",
          "text": [
            "Classification Report:\n",
            "              precision    recall  f1-score   support\n",
            "\n",
            "         0.0       0.70      1.00      0.82       199\n",
            "         1.0       0.00      0.00      0.00        86\n",
            "\n",
            "    accuracy                           0.70       285\n",
            "   macro avg       0.35      0.50      0.41       285\n",
            "weighted avg       0.49      0.70      0.57       285\n",
            "\n"
          ]
        },
        {
          "output_type": "stream",
          "name": "stderr",
          "text": [
            "/usr/local/lib/python3.11/dist-packages/sklearn/metrics/_classification.py:1565: UndefinedMetricWarning: Precision is ill-defined and being set to 0.0 in labels with no predicted samples. Use `zero_division` parameter to control this behavior.\n",
            "  _warn_prf(average, modifier, f\"{metric.capitalize()} is\", len(result))\n",
            "/usr/local/lib/python3.11/dist-packages/sklearn/metrics/_classification.py:1565: UndefinedMetricWarning: Precision is ill-defined and being set to 0.0 in labels with no predicted samples. Use `zero_division` parameter to control this behavior.\n",
            "  _warn_prf(average, modifier, f\"{metric.capitalize()} is\", len(result))\n",
            "/usr/local/lib/python3.11/dist-packages/sklearn/metrics/_classification.py:1565: UndefinedMetricWarning: Precision is ill-defined and being set to 0.0 in labels with no predicted samples. Use `zero_division` parameter to control this behavior.\n",
            "  _warn_prf(average, modifier, f\"{metric.capitalize()} is\", len(result))\n"
          ]
        }
      ]
    },
    {
      "cell_type": "code",
      "source": [],
      "metadata": {
        "id": "-kl_quzCN0gg"
      },
      "execution_count": null,
      "outputs": []
    }
  ]
}